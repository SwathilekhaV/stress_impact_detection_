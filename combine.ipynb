{
 "cells": [
  {
   "cell_type": "code",
   "execution_count": 4,
   "metadata": {},
   "outputs": [
    {
     "name": "stdout",
     "output_type": "stream",
     "text": [
      "Datasets combined successfully into 'combined_dataset.csv'\n"
     ]
    }
   ],
   "source": [
    "import pandas as pd\n",
    "\n",
    "# Read the datasets\n",
    "tech_data = pd.read_csv(\"tech.csv\")\n",
    "stress_lysis_data = pd.read_csv(\"Stress_lysis.csv\")\n",
    "\n",
    "# Read `sleep.csv` with error handling for inconsistent rows\n",
    "try:\n",
    "    sleep_data = pd.read_csv(\"sleep.csv\", on_bad_lines=\"skip\")  # Skips problematic rows\n",
    "except pd.errors.ParserError as e:\n",
    "    print(f\"Error reading sleep.csv: {e}\")\n",
    "\n",
    "# Add dataset identifiers\n",
    "tech_data[\"Source\"] = \"tech.csv\"\n",
    "stress_lysis_data[\"Source\"] = \"Stress_lysis.csv\"\n",
    "sleep_data[\"Source\"] = \"sleep.csv\"\n",
    "\n",
    "# Combine the datasets\n",
    "all_columns = list(set(tech_data.columns) | set(stress_lysis_data.columns) | set(sleep_data.columns))\n",
    "tech_data = tech_data.reindex(columns=all_columns)\n",
    "stress_lysis_data = stress_lysis_data.reindex(columns=all_columns)\n",
    "sleep_data = sleep_data.reindex(columns=all_columns)\n",
    "\n",
    "combined_data = pd.concat([tech_data, stress_lysis_data, sleep_data], ignore_index=True)\n",
    "\n",
    "# Save to a new CSV\n",
    "combined_data.to_csv(\"combined_dataset.csv\", index=False)\n",
    "\n",
    "print(\"Datasets combined successfully into 'combined_dataset.csv'\")\n"
   ]
  },
  {
   "cell_type": "code",
   "execution_count": 5,
   "metadata": {},
   "outputs": [
    {
     "name": "stdout",
     "output_type": "stream",
     "text": [
      "Dataset cleaned and saved as 'cleaned_combined_dataset.csv'\n"
     ]
    },
    {
     "name": "stderr",
     "output_type": "stream",
     "text": [
      "C:\\Users\\admin\\AppData\\Local\\Temp\\ipykernel_14372\\3329817212.py:27: FutureWarning: Setting an item of incompatible dtype is deprecated and will raise an error in a future version of pandas. Value 'N/A' has dtype incompatible with float64, please explicitly cast to a compatible dtype first.\n",
      "  combined_data.fillna(\"N/A\", inplace=True)  # Replace NaN with \"N/A\" for visibility.\n"
     ]
    }
   ],
   "source": [
    "import pandas as pd\n",
    "\n",
    "# Load the combined dataset\n",
    "combined_data = pd.read_csv(\"combined_dataset.csv\")\n",
    "\n",
    "# Drop unnecessary columns (e.g., unnamed ones)\n",
    "combined_data = combined_data.loc[:, ~combined_data.columns.str.contains('^Unnamed')]\n",
    "\n",
    "# Handle redundant columns by renaming or merging\n",
    "if \"Stress Level\" in combined_data.columns:\n",
    "    combined_data[\"Stress_Level\"] = combined_data[\"Stress_Level\"].combine_first(combined_data[\"Stress Level\"])\n",
    "    combined_data.drop(columns=[\"Stress Level\"], inplace=True)\n",
    "\n",
    "# Standardize column names (remove spaces, capitalize properly)\n",
    "combined_data.columns = [col.strip().replace(\" \", \"_\").title() for col in combined_data.columns]\n",
    "\n",
    "# Reorganize columns (optional, for readability)\n",
    "main_columns = [\"User_Id\", \"Person_Id\", \"Gender\", \"Age\", \"Occupation\", \"Stress_Level\"]\n",
    "health_columns = [\"Mental_Health_Status\", \"Quality_Of_Sleep\", \"Sleep_Hours\", \"Physical_Activity_Level\"]\n",
    "activity_columns = [\"Technology_Usage_Hours\", \"Social_Media_Usage_Hours\", \"Gaming_Hours\", \"Screen_Time_Hours\"]\n",
    "environment_columns = [\"Humidity\", \"Temperature\", \"Step_Count\", \"Work_Environment_Impact\", \"Support_Systems_Access\", \"Online_Support_Usage\"]\n",
    "\n",
    "ordered_columns = main_columns + health_columns + activity_columns + environment_columns\n",
    "combined_data = combined_data.reindex(columns=ordered_columns)\n",
    "\n",
    "# Fill missing values (optional)\n",
    "combined_data.fillna(\"N/A\", inplace=True)  # Replace NaN with \"N/A\" for visibility.\n",
    "\n",
    "# Save the cleaned dataset\n",
    "combined_data.to_csv(\"cleaned_combined_dataset.csv\", index=False)\n",
    "\n",
    "print(\"Dataset cleaned and saved as 'cleaned_combined_dataset.csv'\")\n"
   ]
  }
 ],
 "metadata": {
  "kernelspec": {
   "display_name": "Python 3",
   "language": "python",
   "name": "python3"
  },
  "language_info": {
   "codemirror_mode": {
    "name": "ipython",
    "version": 3
   },
   "file_extension": ".py",
   "mimetype": "text/x-python",
   "name": "python",
   "nbconvert_exporter": "python",
   "pygments_lexer": "ipython3",
   "version": "3.11.9"
  }
 },
 "nbformat": 4,
 "nbformat_minor": 2
}
