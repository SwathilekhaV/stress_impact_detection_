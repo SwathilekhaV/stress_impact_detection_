{
 "cells": [
  {
   "cell_type": "code",
   "execution_count": 44,
   "metadata": {},
   "outputs": [],
   "source": [
    "import pandas as pd\n",
    "from sklearn.model_selection import train_test_split\n",
    "from sklearn.linear_model import LogisticRegression\n",
    "from sklearn.metrics import accuracy_score\n"
   ]
  },
  {
   "cell_type": "code",
   "execution_count": 45,
   "metadata": {},
   "outputs": [],
   "source": [
    "# Load the dataset\n",
    "df = pd.read_csv('combined_dataset.csv')\n"
   ]
  },
  {
   "cell_type": "code",
   "execution_count": 46,
   "metadata": {},
   "outputs": [],
   "source": [
    "# Encode categorical variables\n",
    "df['Gender'] = df['Gender'].map({'Female': 0, 'Male': 1, 'Other': 2})\n",
    "df['Mental_Health_Status'] = df['Mental_Health_Status'].map({'Poor': 0, 'Fair': 1, 'Good': 2, 'Excellent': 3})\n",
    "df['Support_Systems_Access'] = df['Support_Systems_Access'].map({'No': 0, 'Yes': 1})\n",
    "df['Work_Environment_Impact'] = df['Work_Environment_Impact'].map({'Negative': 0, 'Neutral': 1, 'Positive': 2})\n",
    "df['Online_Support_Usage'] = df['Online_Support_Usage'].map({'No': 0, 'Yes': 1})\n",
    "\n",
    "# Define features and target\n",
    "X = df[['Age', 'Gender', 'Technology_Usage_Hours', 'Social_Media_Usage_Hours', 'Gaming_Hours',\n",
    "        'Screen_Time_Hours', 'Mental_Health_Status', 'Sleep_Hours', 'Physical_Activity_Hours',\n",
    "        'Support_Systems_Access', 'Work_Environment_Impact', 'Online_Support_Usage',\n",
    "        'Humidity', 'Temperature', 'Step_count']]\n",
    "y = df['Stress_Level'] > 1  # 1 for stressed, 0 for not stressed\n",
    "\n",
    "# Split the data into training and testing sets\n",
    "X_train, X_test, y_train, y_test = train_test_split(X, y, test_size=0.3, random_state=42)\n"
   ]
  },
  {
   "cell_type": "code",
   "execution_count": 47,
   "metadata": {},
   "outputs": [
    {
     "data": {
      "text/html": [
       "<style>#sk-container-id-2 {\n",
       "  /* Definition of color scheme common for light and dark mode */\n",
       "  --sklearn-color-text: black;\n",
       "  --sklearn-color-line: gray;\n",
       "  /* Definition of color scheme for unfitted estimators */\n",
       "  --sklearn-color-unfitted-level-0: #fff5e6;\n",
       "  --sklearn-color-unfitted-level-1: #f6e4d2;\n",
       "  --sklearn-color-unfitted-level-2: #ffe0b3;\n",
       "  --sklearn-color-unfitted-level-3: chocolate;\n",
       "  /* Definition of color scheme for fitted estimators */\n",
       "  --sklearn-color-fitted-level-0: #f0f8ff;\n",
       "  --sklearn-color-fitted-level-1: #d4ebff;\n",
       "  --sklearn-color-fitted-level-2: #b3dbfd;\n",
       "  --sklearn-color-fitted-level-3: cornflowerblue;\n",
       "\n",
       "  /* Specific color for light theme */\n",
       "  --sklearn-color-text-on-default-background: var(--sg-text-color, var(--theme-code-foreground, var(--jp-content-font-color1, black)));\n",
       "  --sklearn-color-background: var(--sg-background-color, var(--theme-background, var(--jp-layout-color0, white)));\n",
       "  --sklearn-color-border-box: var(--sg-text-color, var(--theme-code-foreground, var(--jp-content-font-color1, black)));\n",
       "  --sklearn-color-icon: #696969;\n",
       "\n",
       "  @media (prefers-color-scheme: dark) {\n",
       "    /* Redefinition of color scheme for dark theme */\n",
       "    --sklearn-color-text-on-default-background: var(--sg-text-color, var(--theme-code-foreground, var(--jp-content-font-color1, white)));\n",
       "    --sklearn-color-background: var(--sg-background-color, var(--theme-background, var(--jp-layout-color0, #111)));\n",
       "    --sklearn-color-border-box: var(--sg-text-color, var(--theme-code-foreground, var(--jp-content-font-color1, white)));\n",
       "    --sklearn-color-icon: #878787;\n",
       "  }\n",
       "}\n",
       "\n",
       "#sk-container-id-2 {\n",
       "  color: var(--sklearn-color-text);\n",
       "}\n",
       "\n",
       "#sk-container-id-2 pre {\n",
       "  padding: 0;\n",
       "}\n",
       "\n",
       "#sk-container-id-2 input.sk-hidden--visually {\n",
       "  border: 0;\n",
       "  clip: rect(1px 1px 1px 1px);\n",
       "  clip: rect(1px, 1px, 1px, 1px);\n",
       "  height: 1px;\n",
       "  margin: -1px;\n",
       "  overflow: hidden;\n",
       "  padding: 0;\n",
       "  position: absolute;\n",
       "  width: 1px;\n",
       "}\n",
       "\n",
       "#sk-container-id-2 div.sk-dashed-wrapped {\n",
       "  border: 1px dashed var(--sklearn-color-line);\n",
       "  margin: 0 0.4em 0.5em 0.4em;\n",
       "  box-sizing: border-box;\n",
       "  padding-bottom: 0.4em;\n",
       "  background-color: var(--sklearn-color-background);\n",
       "}\n",
       "\n",
       "#sk-container-id-2 div.sk-container {\n",
       "  /* jupyter's `normalize.less` sets `[hidden] { display: none; }`\n",
       "     but bootstrap.min.css set `[hidden] { display: none !important; }`\n",
       "     so we also need the `!important` here to be able to override the\n",
       "     default hidden behavior on the sphinx rendered scikit-learn.org.\n",
       "     See: https://github.com/scikit-learn/scikit-learn/issues/21755 */\n",
       "  display: inline-block !important;\n",
       "  position: relative;\n",
       "}\n",
       "\n",
       "#sk-container-id-2 div.sk-text-repr-fallback {\n",
       "  display: none;\n",
       "}\n",
       "\n",
       "div.sk-parallel-item,\n",
       "div.sk-serial,\n",
       "div.sk-item {\n",
       "  /* draw centered vertical line to link estimators */\n",
       "  background-image: linear-gradient(var(--sklearn-color-text-on-default-background), var(--sklearn-color-text-on-default-background));\n",
       "  background-size: 2px 100%;\n",
       "  background-repeat: no-repeat;\n",
       "  background-position: center center;\n",
       "}\n",
       "\n",
       "/* Parallel-specific style estimator block */\n",
       "\n",
       "#sk-container-id-2 div.sk-parallel-item::after {\n",
       "  content: \"\";\n",
       "  width: 100%;\n",
       "  border-bottom: 2px solid var(--sklearn-color-text-on-default-background);\n",
       "  flex-grow: 1;\n",
       "}\n",
       "\n",
       "#sk-container-id-2 div.sk-parallel {\n",
       "  display: flex;\n",
       "  align-items: stretch;\n",
       "  justify-content: center;\n",
       "  background-color: var(--sklearn-color-background);\n",
       "  position: relative;\n",
       "}\n",
       "\n",
       "#sk-container-id-2 div.sk-parallel-item {\n",
       "  display: flex;\n",
       "  flex-direction: column;\n",
       "}\n",
       "\n",
       "#sk-container-id-2 div.sk-parallel-item:first-child::after {\n",
       "  align-self: flex-end;\n",
       "  width: 50%;\n",
       "}\n",
       "\n",
       "#sk-container-id-2 div.sk-parallel-item:last-child::after {\n",
       "  align-self: flex-start;\n",
       "  width: 50%;\n",
       "}\n",
       "\n",
       "#sk-container-id-2 div.sk-parallel-item:only-child::after {\n",
       "  width: 0;\n",
       "}\n",
       "\n",
       "/* Serial-specific style estimator block */\n",
       "\n",
       "#sk-container-id-2 div.sk-serial {\n",
       "  display: flex;\n",
       "  flex-direction: column;\n",
       "  align-items: center;\n",
       "  background-color: var(--sklearn-color-background);\n",
       "  padding-right: 1em;\n",
       "  padding-left: 1em;\n",
       "}\n",
       "\n",
       "\n",
       "/* Toggleable style: style used for estimator/Pipeline/ColumnTransformer box that is\n",
       "clickable and can be expanded/collapsed.\n",
       "- Pipeline and ColumnTransformer use this feature and define the default style\n",
       "- Estimators will overwrite some part of the style using the `sk-estimator` class\n",
       "*/\n",
       "\n",
       "/* Pipeline and ColumnTransformer style (default) */\n",
       "\n",
       "#sk-container-id-2 div.sk-toggleable {\n",
       "  /* Default theme specific background. It is overwritten whether we have a\n",
       "  specific estimator or a Pipeline/ColumnTransformer */\n",
       "  background-color: var(--sklearn-color-background);\n",
       "}\n",
       "\n",
       "/* Toggleable label */\n",
       "#sk-container-id-2 label.sk-toggleable__label {\n",
       "  cursor: pointer;\n",
       "  display: block;\n",
       "  width: 100%;\n",
       "  margin-bottom: 0;\n",
       "  padding: 0.5em;\n",
       "  box-sizing: border-box;\n",
       "  text-align: center;\n",
       "}\n",
       "\n",
       "#sk-container-id-2 label.sk-toggleable__label-arrow:before {\n",
       "  /* Arrow on the left of the label */\n",
       "  content: \"▸\";\n",
       "  float: left;\n",
       "  margin-right: 0.25em;\n",
       "  color: var(--sklearn-color-icon);\n",
       "}\n",
       "\n",
       "#sk-container-id-2 label.sk-toggleable__label-arrow:hover:before {\n",
       "  color: var(--sklearn-color-text);\n",
       "}\n",
       "\n",
       "/* Toggleable content - dropdown */\n",
       "\n",
       "#sk-container-id-2 div.sk-toggleable__content {\n",
       "  max-height: 0;\n",
       "  max-width: 0;\n",
       "  overflow: hidden;\n",
       "  text-align: left;\n",
       "  /* unfitted */\n",
       "  background-color: var(--sklearn-color-unfitted-level-0);\n",
       "}\n",
       "\n",
       "#sk-container-id-2 div.sk-toggleable__content.fitted {\n",
       "  /* fitted */\n",
       "  background-color: var(--sklearn-color-fitted-level-0);\n",
       "}\n",
       "\n",
       "#sk-container-id-2 div.sk-toggleable__content pre {\n",
       "  margin: 0.2em;\n",
       "  border-radius: 0.25em;\n",
       "  color: var(--sklearn-color-text);\n",
       "  /* unfitted */\n",
       "  background-color: var(--sklearn-color-unfitted-level-0);\n",
       "}\n",
       "\n",
       "#sk-container-id-2 div.sk-toggleable__content.fitted pre {\n",
       "  /* unfitted */\n",
       "  background-color: var(--sklearn-color-fitted-level-0);\n",
       "}\n",
       "\n",
       "#sk-container-id-2 input.sk-toggleable__control:checked~div.sk-toggleable__content {\n",
       "  /* Expand drop-down */\n",
       "  max-height: 200px;\n",
       "  max-width: 100%;\n",
       "  overflow: auto;\n",
       "}\n",
       "\n",
       "#sk-container-id-2 input.sk-toggleable__control:checked~label.sk-toggleable__label-arrow:before {\n",
       "  content: \"▾\";\n",
       "}\n",
       "\n",
       "/* Pipeline/ColumnTransformer-specific style */\n",
       "\n",
       "#sk-container-id-2 div.sk-label input.sk-toggleable__control:checked~label.sk-toggleable__label {\n",
       "  color: var(--sklearn-color-text);\n",
       "  background-color: var(--sklearn-color-unfitted-level-2);\n",
       "}\n",
       "\n",
       "#sk-container-id-2 div.sk-label.fitted input.sk-toggleable__control:checked~label.sk-toggleable__label {\n",
       "  background-color: var(--sklearn-color-fitted-level-2);\n",
       "}\n",
       "\n",
       "/* Estimator-specific style */\n",
       "\n",
       "/* Colorize estimator box */\n",
       "#sk-container-id-2 div.sk-estimator input.sk-toggleable__control:checked~label.sk-toggleable__label {\n",
       "  /* unfitted */\n",
       "  background-color: var(--sklearn-color-unfitted-level-2);\n",
       "}\n",
       "\n",
       "#sk-container-id-2 div.sk-estimator.fitted input.sk-toggleable__control:checked~label.sk-toggleable__label {\n",
       "  /* fitted */\n",
       "  background-color: var(--sklearn-color-fitted-level-2);\n",
       "}\n",
       "\n",
       "#sk-container-id-2 div.sk-label label.sk-toggleable__label,\n",
       "#sk-container-id-2 div.sk-label label {\n",
       "  /* The background is the default theme color */\n",
       "  color: var(--sklearn-color-text-on-default-background);\n",
       "}\n",
       "\n",
       "/* On hover, darken the color of the background */\n",
       "#sk-container-id-2 div.sk-label:hover label.sk-toggleable__label {\n",
       "  color: var(--sklearn-color-text);\n",
       "  background-color: var(--sklearn-color-unfitted-level-2);\n",
       "}\n",
       "\n",
       "/* Label box, darken color on hover, fitted */\n",
       "#sk-container-id-2 div.sk-label.fitted:hover label.sk-toggleable__label.fitted {\n",
       "  color: var(--sklearn-color-text);\n",
       "  background-color: var(--sklearn-color-fitted-level-2);\n",
       "}\n",
       "\n",
       "/* Estimator label */\n",
       "\n",
       "#sk-container-id-2 div.sk-label label {\n",
       "  font-family: monospace;\n",
       "  font-weight: bold;\n",
       "  display: inline-block;\n",
       "  line-height: 1.2em;\n",
       "}\n",
       "\n",
       "#sk-container-id-2 div.sk-label-container {\n",
       "  text-align: center;\n",
       "}\n",
       "\n",
       "/* Estimator-specific */\n",
       "#sk-container-id-2 div.sk-estimator {\n",
       "  font-family: monospace;\n",
       "  border: 1px dotted var(--sklearn-color-border-box);\n",
       "  border-radius: 0.25em;\n",
       "  box-sizing: border-box;\n",
       "  margin-bottom: 0.5em;\n",
       "  /* unfitted */\n",
       "  background-color: var(--sklearn-color-unfitted-level-0);\n",
       "}\n",
       "\n",
       "#sk-container-id-2 div.sk-estimator.fitted {\n",
       "  /* fitted */\n",
       "  background-color: var(--sklearn-color-fitted-level-0);\n",
       "}\n",
       "\n",
       "/* on hover */\n",
       "#sk-container-id-2 div.sk-estimator:hover {\n",
       "  /* unfitted */\n",
       "  background-color: var(--sklearn-color-unfitted-level-2);\n",
       "}\n",
       "\n",
       "#sk-container-id-2 div.sk-estimator.fitted:hover {\n",
       "  /* fitted */\n",
       "  background-color: var(--sklearn-color-fitted-level-2);\n",
       "}\n",
       "\n",
       "/* Specification for estimator info (e.g. \"i\" and \"?\") */\n",
       "\n",
       "/* Common style for \"i\" and \"?\" */\n",
       "\n",
       ".sk-estimator-doc-link,\n",
       "a:link.sk-estimator-doc-link,\n",
       "a:visited.sk-estimator-doc-link {\n",
       "  float: right;\n",
       "  font-size: smaller;\n",
       "  line-height: 1em;\n",
       "  font-family: monospace;\n",
       "  background-color: var(--sklearn-color-background);\n",
       "  border-radius: 1em;\n",
       "  height: 1em;\n",
       "  width: 1em;\n",
       "  text-decoration: none !important;\n",
       "  margin-left: 1ex;\n",
       "  /* unfitted */\n",
       "  border: var(--sklearn-color-unfitted-level-1) 1pt solid;\n",
       "  color: var(--sklearn-color-unfitted-level-1);\n",
       "}\n",
       "\n",
       ".sk-estimator-doc-link.fitted,\n",
       "a:link.sk-estimator-doc-link.fitted,\n",
       "a:visited.sk-estimator-doc-link.fitted {\n",
       "  /* fitted */\n",
       "  border: var(--sklearn-color-fitted-level-1) 1pt solid;\n",
       "  color: var(--sklearn-color-fitted-level-1);\n",
       "}\n",
       "\n",
       "/* On hover */\n",
       "div.sk-estimator:hover .sk-estimator-doc-link:hover,\n",
       ".sk-estimator-doc-link:hover,\n",
       "div.sk-label-container:hover .sk-estimator-doc-link:hover,\n",
       ".sk-estimator-doc-link:hover {\n",
       "  /* unfitted */\n",
       "  background-color: var(--sklearn-color-unfitted-level-3);\n",
       "  color: var(--sklearn-color-background);\n",
       "  text-decoration: none;\n",
       "}\n",
       "\n",
       "div.sk-estimator.fitted:hover .sk-estimator-doc-link.fitted:hover,\n",
       ".sk-estimator-doc-link.fitted:hover,\n",
       "div.sk-label-container:hover .sk-estimator-doc-link.fitted:hover,\n",
       ".sk-estimator-doc-link.fitted:hover {\n",
       "  /* fitted */\n",
       "  background-color: var(--sklearn-color-fitted-level-3);\n",
       "  color: var(--sklearn-color-background);\n",
       "  text-decoration: none;\n",
       "}\n",
       "\n",
       "/* Span, style for the box shown on hovering the info icon */\n",
       ".sk-estimator-doc-link span {\n",
       "  display: none;\n",
       "  z-index: 9999;\n",
       "  position: relative;\n",
       "  font-weight: normal;\n",
       "  right: .2ex;\n",
       "  padding: .5ex;\n",
       "  margin: .5ex;\n",
       "  width: min-content;\n",
       "  min-width: 20ex;\n",
       "  max-width: 50ex;\n",
       "  color: var(--sklearn-color-text);\n",
       "  box-shadow: 2pt 2pt 4pt #999;\n",
       "  /* unfitted */\n",
       "  background: var(--sklearn-color-unfitted-level-0);\n",
       "  border: .5pt solid var(--sklearn-color-unfitted-level-3);\n",
       "}\n",
       "\n",
       ".sk-estimator-doc-link.fitted span {\n",
       "  /* fitted */\n",
       "  background: var(--sklearn-color-fitted-level-0);\n",
       "  border: var(--sklearn-color-fitted-level-3);\n",
       "}\n",
       "\n",
       ".sk-estimator-doc-link:hover span {\n",
       "  display: block;\n",
       "}\n",
       "\n",
       "/* \"?\"-specific style due to the `<a>` HTML tag */\n",
       "\n",
       "#sk-container-id-2 a.estimator_doc_link {\n",
       "  float: right;\n",
       "  font-size: 1rem;\n",
       "  line-height: 1em;\n",
       "  font-family: monospace;\n",
       "  background-color: var(--sklearn-color-background);\n",
       "  border-radius: 1rem;\n",
       "  height: 1rem;\n",
       "  width: 1rem;\n",
       "  text-decoration: none;\n",
       "  /* unfitted */\n",
       "  color: var(--sklearn-color-unfitted-level-1);\n",
       "  border: var(--sklearn-color-unfitted-level-1) 1pt solid;\n",
       "}\n",
       "\n",
       "#sk-container-id-2 a.estimator_doc_link.fitted {\n",
       "  /* fitted */\n",
       "  border: var(--sklearn-color-fitted-level-1) 1pt solid;\n",
       "  color: var(--sklearn-color-fitted-level-1);\n",
       "}\n",
       "\n",
       "/* On hover */\n",
       "#sk-container-id-2 a.estimator_doc_link:hover {\n",
       "  /* unfitted */\n",
       "  background-color: var(--sklearn-color-unfitted-level-3);\n",
       "  color: var(--sklearn-color-background);\n",
       "  text-decoration: none;\n",
       "}\n",
       "\n",
       "#sk-container-id-2 a.estimator_doc_link.fitted:hover {\n",
       "  /* fitted */\n",
       "  background-color: var(--sklearn-color-fitted-level-3);\n",
       "}\n",
       "</style><div id=\"sk-container-id-2\" class=\"sk-top-container\"><div class=\"sk-text-repr-fallback\"><pre>LogisticRegression()</pre><b>In a Jupyter environment, please rerun this cell to show the HTML representation or trust the notebook. <br />On GitHub, the HTML representation is unable to render, please try loading this page with nbviewer.org.</b></div><div class=\"sk-container\" hidden><div class=\"sk-item\"><div class=\"sk-estimator fitted sk-toggleable\"><input class=\"sk-toggleable__control sk-hidden--visually\" id=\"sk-estimator-id-2\" type=\"checkbox\" checked><label for=\"sk-estimator-id-2\" class=\"sk-toggleable__label fitted sk-toggleable__label-arrow fitted\">&nbsp;&nbsp;LogisticRegression<a class=\"sk-estimator-doc-link fitted\" rel=\"noreferrer\" target=\"_blank\" href=\"https://scikit-learn.org/1.5/modules/generated/sklearn.linear_model.LogisticRegression.html\">?<span>Documentation for LogisticRegression</span></a><span class=\"sk-estimator-doc-link fitted\">i<span>Fitted</span></span></label><div class=\"sk-toggleable__content fitted\"><pre>LogisticRegression()</pre></div> </div></div></div></div>"
      ],
      "text/plain": [
       "LogisticRegression()"
      ]
     },
     "execution_count": 47,
     "metadata": {},
     "output_type": "execute_result"
    }
   ],
   "source": [
    "# Initialize and train the logistic regression model\n",
    "model = LogisticRegression()\n",
    "model.fit(X_train, y_train)\n"
   ]
  },
  {
   "cell_type": "code",
   "execution_count": 48,
   "metadata": {},
   "outputs": [
    {
     "name": "stdout",
     "output_type": "stream",
     "text": [
      "Accuracy: 1.00\n"
     ]
    }
   ],
   "source": [
    "# Predict and evaluate\n",
    "y_pred = model.predict(X_test)\n",
    "accuracy = accuracy_score(y_test, y_pred)\n",
    "print(f'Accuracy: {accuracy:.2f}')\n"
   ]
  },
  {
   "cell_type": "code",
   "execution_count": 40,
   "metadata": {},
   "outputs": [
    {
     "name": "stdout",
     "output_type": "stream",
     "text": [
      "Defaulting to user installation because normal site-packages is not writeable\n",
      "Requirement already satisfied: joblib in c:\\users\\admin\\appdata\\roaming\\python\\python311\\site-packages (1.4.2)\n",
      "Requirement already satisfied: h5py in c:\\users\\admin\\appdata\\roaming\\python\\python311\\site-packages (3.12.1)\n",
      "Requirement already satisfied: numpy>=1.19.3 in c:\\users\\admin\\appdata\\roaming\\python\\python311\\site-packages (from h5py) (1.26.4)\n",
      "Note: you may need to restart the kernel to use updated packages.\n"
     ]
    },
    {
     "name": "stderr",
     "output_type": "stream",
     "text": [
      "\n",
      "[notice] A new release of pip is available: 24.0 -> 24.3.1\n",
      "[notice] To update, run: python.exe -m pip install --upgrade pip\n"
     ]
    }
   ],
   "source": [
    "pip install joblib h5py\n"
   ]
  },
  {
   "cell_type": "code",
   "execution_count": 49,
   "metadata": {},
   "outputs": [],
   "source": [
    "import h5py\n",
    "\n",
    "# Save the model as .h5 file\n",
    "with h5py.File('model.h5', 'w') as f:\n",
    "    f.create_dataset('coefficients', data=model.coef_)\n",
    "    f.create_dataset('intercept', data=model.intercept_)\n"
   ]
  },
  {
   "cell_type": "code",
   "execution_count": 50,
   "metadata": {},
   "outputs": [],
   "source": [
    "with h5py.File('model.h5', 'r') as f:\n",
    "    coef = f['coefficients'][:]\n",
    "    intercept = f['intercept'][:]\n",
    "    loaded_model = LogisticRegression()\n",
    "    loaded_model.coef_ = coef\n",
    "    loaded_model.intercept_ = intercept\n"
   ]
  },
  {
   "cell_type": "code",
   "execution_count": 59,
   "metadata": {},
   "outputs": [
    {
     "data": {
      "text/plain": [
       "['model.pkl']"
      ]
     },
     "execution_count": 59,
     "metadata": {},
     "output_type": "execute_result"
    }
   ],
   "source": [
    "import joblib\n",
    "\n",
    "# Save the model as .pkl file\n",
    "joblib.dump(model, 'model.pkl')\n"
   ]
  },
  {
   "cell_type": "code",
   "execution_count": 60,
   "metadata": {},
   "outputs": [],
   "source": [
    "# Load the model from .pkl file\n",
    "loaded_model = joblib.load('model.pkl')\n"
   ]
  },
  {
   "cell_type": "code",
   "execution_count": 51,
   "metadata": {},
   "outputs": [],
   "source": [
    "sample_input = {\n",
    "    'Age': 28,\n",
    "    'Gender': 0,  # Female\n",
    "    'Technology_Usage_Hours': 5.0,\n",
    "    'Social_Media_Usage_Hours': 4.0,\n",
    "    'Gaming_Hours': 1.0,\n",
    "    'Screen_Time_Hours': 10.0,\n",
    "    'Mental_Health_Status': 2,  # Good\n",
    "    'Sleep_Hours': 7.0,\n",
    "    'Physical_Activity_Hours': 3.0,\n",
    "    'Support_Systems_Access': 1,  # Yes\n",
    "    'Work_Environment_Impact': 0,  # Negative\n",
    "    'Online_Support_Usage': 1,  # Yes\n",
    "    'Humidity': 0.0,\n",
    "    'Temperature': 0.0,\n",
    "    'Step_count': 150\n",
    "}\n",
    "\n",
    "# Convert the sample input to DataFrame\n",
    "sample_df = pd.DataFrame([sample_input])\n"
   ]
  },
  {
   "cell_type": "code",
   "execution_count": 61,
   "metadata": {},
   "outputs": [
    {
     "name": "stdout",
     "output_type": "stream",
     "text": [
      "Stress Prediction: Stressed\n"
     ]
    }
   ],
   "source": [
    "#Load the saved model (if not already loaded)\n",
    "model = joblib.load('model.pkl')\n",
    "\n",
    "# Predict stress level\n",
    "prediction = model.predict(sample_df)\n",
    "is_stressed = prediction[0]  # 1 for stressed, 0 for not stressed\n",
    "\n",
    "# Output result\n",
    "stress_status = 'Stressed' if is_stressed else 'Not Stressed'\n",
    "print(f'Stress Prediction: {stress_status}')\n"
   ]
  },
  {
   "cell_type": "code",
   "execution_count": 62,
   "metadata": {},
   "outputs": [],
   "source": [
    "sample_input = {\n",
    "    'Age': 30,\n",
    "    'Gender': 1,  # Male\n",
    "    'Technology_Usage_Hours': 2.0,\n",
    "    'Social_Media_Usage_Hours': 1.0,\n",
    "    'Gaming_Hours': 0.5,\n",
    "    'Screen_Time_Hours': 5.5,\n",
    "    'Mental_Health_Status': 3,  # Excellent\n",
    "    'Sleep_Hours': 8.5,\n",
    "    'Physical_Activity_Hours': 7.0,\n",
    "    'Support_Systems_Access': 1,  # Yes\n",
    "    'Work_Environment_Impact': 2,  # Positive\n",
    "    'Online_Support_Usage': 1,  # Yes\n",
    "    'Humidity': 30.0,\n",
    "    'Temperature': 70.0,  # Adjusted Temperature\n",
    "    'Step_count': 10000  # Increased Step Count\n",
    "}\n",
    "\n",
    "# Convert the sample input to DataFrame\n",
    "sample_df = pd.DataFrame([sample_input])\n"
   ]
  },
  {
   "cell_type": "code",
   "execution_count": 63,
   "metadata": {},
   "outputs": [
    {
     "name": "stdout",
     "output_type": "stream",
     "text": [
      "Stress Prediction: Stressed\n"
     ]
    }
   ],
   "source": [
    "# Load the saved model (if not already loaded)\n",
    "model = joblib.load('model.pkl')\n",
    "\n",
    "# Predict stress level\n",
    "prediction = model.predict(sample_df)\n",
    "is_stressed = prediction[0]  # 1 for stressed, 0 for not stressed\n",
    "\n",
    "# Output result\n",
    "stress_status = 'Stressed' if is_stressed else 'Not Stressed'\n",
    "print(f'Stress Prediction: {stress_status}')\n"
   ]
  },
  {
   "cell_type": "code",
   "execution_count": 55,
   "metadata": {},
   "outputs": [
    {
     "name": "stdout",
     "output_type": "stream",
     "text": [
      "                     Feature  Importance\n",
      "13               Temperature    0.591876\n",
      "14                Step_count    0.372493\n",
      "12                  Humidity    0.059721\n",
      "5          Screen_Time_Hours    0.048630\n",
      "7                Sleep_Hours    0.046989\n",
      "2     Technology_Usage_Hours    0.041400\n",
      "0                        Age    0.031278\n",
      "8    Physical_Activity_Hours    0.029929\n",
      "3   Social_Media_Usage_Hours    0.026653\n",
      "4               Gaming_Hours    0.018133\n",
      "6       Mental_Health_Status    0.011154\n",
      "1                     Gender    0.007594\n",
      "10   Work_Environment_Impact    0.006824\n",
      "11      Online_Support_Usage    0.004021\n",
      "9     Support_Systems_Access    0.003448\n"
     ]
    }
   ],
   "source": [
    "import numpy as np\n",
    "\n",
    "# Get feature importance\n",
    "importance = np.abs(model.coef_[0])\n",
    "feature_importance = pd.DataFrame({'Feature': X.columns, 'Importance': importance})\n",
    "feature_importance = feature_importance.sort_values(by='Importance', ascending=False)\n",
    "print(feature_importance)\n"
   ]
  },
  {
   "cell_type": "code",
   "execution_count": 64,
   "metadata": {},
   "outputs": [],
   "source": [
    "\n",
    "\n",
    "# Define the adjusted sample input\n",
    "sample_input = {\n",
    "    'Age': 30,\n",
    "    'Gender': 1,  # Male\n",
    "    'Technology_Usage_Hours': 1.0,\n",
    "    'Social_Media_Usage_Hours': 0.5,\n",
    "    'Gaming_Hours': 0.2,\n",
    "    'Screen_Time_Hours': 4.0,\n",
    "    'Mental_Health_Status': 3,  # Excellent\n",
    "    'Sleep_Hours': 9.0,\n",
    "    'Physical_Activity_Hours': 8.0,\n",
    "    'Support_Systems_Access': 1,  # Yes\n",
    "    'Work_Environment_Impact': 2,  # Positive\n",
    "    'Online_Support_Usage': 1,  # Yes\n",
    "    'Humidity': 35.0,\n",
    "    'Temperature': 65.0,  # Lowering Temperature\n",
    "    'Step_count': 12000  # Further Increased Step Count\n",
    "}\n",
    "\n",
    "# Convert the sample input to DataFrame\n",
    "sample_df = pd.DataFrame([sample_input])\n",
    "\n"
   ]
  },
  {
   "cell_type": "code",
   "execution_count": 65,
   "metadata": {},
   "outputs": [
    {
     "name": "stdout",
     "output_type": "stream",
     "text": [
      "Stress Prediction: Stressed\n"
     ]
    }
   ],
   "source": [
    "# Load the saved model (if not already loaded)\n",
    "model = joblib.load('model.pkl')\n",
    "\n",
    "# Predict stress level\n",
    "prediction = model.predict(sample_df)\n",
    "is_stressed = prediction[0]  # 1 for stressed, 0 for not stressed\n",
    "\n",
    "# Output result\n",
    "stress_status = 'Stressed' if is_stressed else 'Not Stressed'\n",
    "print(f'Stress Prediction: {stress_status}')\n"
   ]
  },
  {
   "cell_type": "code",
   "execution_count": 66,
   "metadata": {},
   "outputs": [
    {
     "name": "stdout",
     "output_type": "stream",
     "text": [
      "   Age  Gender  Technology_Usage_Hours  Social_Media_Usage_Hours  \\\n",
      "0   30       1                     1.0                       0.5   \n",
      "\n",
      "   Gaming_Hours  Screen_Time_Hours  Mental_Health_Status  Sleep_Hours  \\\n",
      "0           0.2                4.0                     3          9.0   \n",
      "\n",
      "   Physical_Activity_Hours  Support_Systems_Access  Work_Environment_Impact  \\\n",
      "0                      8.0                       1                        2   \n",
      "\n",
      "   Online_Support_Usage  Humidity  Temperature  Step_count  \n",
      "0                     1      35.0         65.0       12000  \n"
     ]
    }
   ],
   "source": [
    "# Check for any discrepancies in data processing\n",
    "print(sample_df)\n"
   ]
  },
  {
   "cell_type": "code",
   "execution_count": 67,
   "metadata": {},
   "outputs": [
    {
     "name": "stdout",
     "output_type": "stream",
     "text": [
      "Train Set Performance:\n",
      "              precision    recall  f1-score   support\n",
      "\n",
      "       False       1.00      1.00      1.00      2314\n",
      "        True       1.00      1.00      1.00      2355\n",
      "\n",
      "    accuracy                           1.00      4669\n",
      "   macro avg       1.00      1.00      1.00      4669\n",
      "weighted avg       1.00      1.00      1.00      4669\n",
      "\n",
      "Test Set Performance:\n",
      "              precision    recall  f1-score   support\n",
      "\n",
      "       False       1.00      1.00      1.00      1018\n",
      "        True       1.00      1.00      1.00       983\n",
      "\n",
      "    accuracy                           1.00      2001\n",
      "   macro avg       1.00      1.00      1.00      2001\n",
      "weighted avg       1.00      1.00      1.00      2001\n",
      "\n"
     ]
    }
   ],
   "source": [
    "from sklearn.metrics import classification_report\n",
    "\n",
    "# Evaluate the model's predictions\n",
    "y_train_pred = model.predict(X_train)\n",
    "y_test_pred = model.predict(X_test)\n",
    "\n",
    "print(\"Train Set Performance:\")\n",
    "print(classification_report(y_train, y_train_pred))\n",
    "\n",
    "print(\"Test Set Performance:\")\n",
    "print(classification_report(y_test, y_test_pred))\n"
   ]
  },
  {
   "cell_type": "code",
   "execution_count": 68,
   "metadata": {},
   "outputs": [
    {
     "name": "stdout",
     "output_type": "stream",
     "text": [
      "Stress_Level\n",
      "2    3338\n",
      "1    3332\n",
      "Name: count, dtype: int64\n"
     ]
    }
   ],
   "source": [
    "# Check class distribution\n",
    "print(df['Stress_Level'].value_counts())\n"
   ]
  },
  {
   "cell_type": "code",
   "execution_count": 73,
   "metadata": {},
   "outputs": [
    {
     "name": "stderr",
     "output_type": "stream",
     "text": [
      "C:\\Users\\admin\\AppData\\Roaming\\Python\\Python311\\site-packages\\sklearn\\base.py:493: UserWarning: X does not have valid feature names, but StandardScaler was fitted with feature names\n",
      "  warnings.warn(\n"
     ]
    }
   ],
   "source": [
    "from sklearn.preprocessing import StandardScaler\n",
    "\n",
    "# Assuming X_train was scaled during training\n",
    "scaler = StandardScaler()\n",
    "X_train_scaled = scaler.fit_transform(X_train)\n",
    "sample_array_scaled = scaler.transform(sample_array)\n"
   ]
  },
  {
   "cell_type": "code",
   "execution_count": 74,
   "metadata": {},
   "outputs": [],
   "source": [
    "# For Logistic Regression (if using .pkl model)\n",
    "is_stressed = (prediction[0] > 0.5)  # Binary output, threshold at 0.5\n"
   ]
  },
  {
   "cell_type": "code",
   "execution_count": 77,
   "metadata": {},
   "outputs": [],
   "source": [
    "import pandas as pd\n",
    "import joblib\n",
    "import numpy as np\n",
    "from keras.models import load_model\n",
    "from sklearn.preprocessing import StandardScaler\n",
    "\n",
    "# Define the correct feature names\n",
    "feature_names = ['Age', 'Gender', 'Technology_Usage_Hours', 'Social_Media_Usage_Hours', 'Gaming_Hours',\n",
    "                 'Screen_Time_Hours', 'Mental_Health_Status', 'Sleep_Hours', 'Physical_Activity_Hours',\n",
    "                 'Support_Systems_Access', 'Work_Environment_Impact', 'Online_Support_Usage',\n",
    "                 'Humidity', 'Temperature', 'Step_count']\n",
    "\n",
    "# Define the adjusted sample input with correct feature names\n",
    "sample_input = {\n",
    "    'Age': 30,\n",
    "    'Gender': 1,  # Male\n",
    "    'Technology_Usage_Hours': 1.0,\n",
    "    'Social_Media_Usage_Hours': 0.5,\n",
    "    'Gaming_Hours': 0.2,\n",
    "    'Screen_Time_Hours': 4.0,\n",
    "    'Mental_Health_Status': 3,  # Excellent\n",
    "    'Sleep_Hours': 9.0,\n",
    "    'Physical_Activity_Hours': 8.0,\n",
    "    'Support_Systems_Access': 1,  # Yes\n",
    "    'Work_Environment_Impact': 2,  # Positive\n",
    "    'Online_Support_Usage': 1,  # Yes\n",
    "    'Humidity': 35.0,\n",
    "    'Temperature': 65.0,  # Lowering Temperature\n",
    "    'Step_count': 12000  # Further Increased Step Count\n",
    "}\n",
    "\n",
    "# Convert the sample input to DataFrame with correct feature names\n",
    "sample_df = pd.DataFrame([sample_input], columns=feature_names)\n",
    "sample_array = sample_df.values\n"
   ]
  },
  {
   "cell_type": "code",
   "execution_count": 82,
   "metadata": {},
   "outputs": [
    {
     "name": "stdout",
     "output_type": "stream",
     "text": [
      "Stress Prediction: Stressed\n"
     ]
    },
    {
     "name": "stderr",
     "output_type": "stream",
     "text": [
      "C:\\Users\\admin\\AppData\\Roaming\\Python\\Python311\\site-packages\\sklearn\\base.py:493: UserWarning: X does not have valid feature names, but LogisticRegression was fitted with feature names\n",
      "  warnings.warn(\n"
     ]
    }
   ],
   "source": [
    "import pandas as pd\n",
    "import joblib\n",
    "from sklearn.preprocessing import StandardScaler\n",
    "\n",
    "# Define the correct feature names\n",
    "feature_names = ['Age', 'Gender', 'Technology_Usage_Hours', 'Social_Media_Usage_Hours', 'Gaming_Hours',\n",
    "                 'Screen_Time_Hours', 'Mental_Health_Status', 'Sleep_Hours', 'Physical_Activity_Hours',\n",
    "                 'Support_Systems_Access', 'Work_Environment_Impact', 'Online_Support_Usage',\n",
    "                 'Humidity', 'Temperature', 'Step_count']\n",
    "\n",
    "# Define the adjusted sample input with correct feature names\n",
    "sample_input = {\n",
    "    'Age': 30,\n",
    "    'Gender': 1,  # Male\n",
    "    'Technology_Usage_Hours': 1.0,\n",
    "    'Social_Media_Usage_Hours': 0.5,\n",
    "    'Gaming_Hours': 0.2,\n",
    "    'Screen_Time_Hours': 4.0,\n",
    "    'Mental_Health_Status': 3,  # Excellent\n",
    "    'Sleep_Hours': 9.0,\n",
    "    'Physical_Activity_Hours': 8.0,\n",
    "    'Support_Systems_Access': 1,  # Yes\n",
    "    'Work_Environment_Impact': 2,  # Positive\n",
    "    'Online_Support_Usage': 1,  # Yes\n",
    "    'Humidity': 35.0,\n",
    "    'Temperature': 65.0,  # Lowering Temperature\n",
    "    'Step_count': 12000  # Further Increased Step Count\n",
    "}\n",
    "\n",
    "# Convert the sample input to DataFrame with correct feature names\n",
    "sample_df = pd.DataFrame([sample_input], columns=feature_names)\n",
    "\n",
    "# Load the model from .pkl file\n",
    "model = joblib.load('model.pkl')\n",
    "\n",
    "# Feature scaling using StandardScaler fitted with the same feature names\n",
    "scaler = StandardScaler().fit(X_train)  # Ensure X_train has the correct feature names\n",
    "sample_array_scaled = scaler.transform(sample_df)\n",
    "\n",
    "# Predict stress level\n",
    "prediction = model.predict(sample_array_scaled)\n",
    "is_stressed = (prediction[0] > 0.5)  # Binary output, threshold at 0.5\n",
    "\n",
    "# Output result\n",
    "stress_status = 'Stressed' if is_stressed else 'Not Stressed'\n",
    "print(f'Stress Prediction: {stress_status}')\n"
   ]
  },
  {
   "cell_type": "code",
   "execution_count": 84,
   "metadata": {},
   "outputs": [
    {
     "name": "stdout",
     "output_type": "stream",
     "text": [
      "Epoch 1/5\n"
     ]
    },
    {
     "name": "stderr",
     "output_type": "stream",
     "text": [
      "C:\\Users\\admin\\AppData\\Roaming\\Python\\Python311\\site-packages\\keras\\src\\layers\\core\\dense.py:87: UserWarning: Do not pass an `input_shape`/`input_dim` argument to a layer. When using Sequential models, prefer using an `Input(shape)` object as the first layer in the model instead.\n",
      "  super().__init__(activity_regularizer=activity_regularizer, **kwargs)\n"
     ]
    },
    {
     "name": "stdout",
     "output_type": "stream",
     "text": [
      "\u001b[1m10/10\u001b[0m \u001b[32m━━━━━━━━━━━━━━━━━━━━\u001b[0m\u001b[37m\u001b[0m \u001b[1m2s\u001b[0m 9ms/step - accuracy: 0.5732 - loss: 0.6724 \n",
      "Epoch 2/5\n",
      "\u001b[1m10/10\u001b[0m \u001b[32m━━━━━━━━━━━━━━━━━━━━\u001b[0m\u001b[37m\u001b[0m \u001b[1m0s\u001b[0m 3ms/step - accuracy: 0.5001 - loss: 0.6934\n",
      "Epoch 3/5\n",
      "\u001b[1m10/10\u001b[0m \u001b[32m━━━━━━━━━━━━━━━━━━━━\u001b[0m\u001b[37m\u001b[0m \u001b[1m0s\u001b[0m 3ms/step - accuracy: 0.5282 - loss: 0.6808\n",
      "Epoch 4/5\n",
      "\u001b[1m10/10\u001b[0m \u001b[32m━━━━━━━━━━━━━━━━━━━━\u001b[0m\u001b[37m\u001b[0m \u001b[1m0s\u001b[0m 3ms/step - accuracy: 0.5315 - loss: 0.6814\n",
      "Epoch 5/5\n",
      "\u001b[1m10/10\u001b[0m \u001b[32m━━━━━━━━━━━━━━━━━━━━\u001b[0m\u001b[37m\u001b[0m \u001b[1m0s\u001b[0m 4ms/step - accuracy: 0.6104 - loss: 0.6711\n"
     ]
    },
    {
     "name": "stderr",
     "output_type": "stream",
     "text": [
      "WARNING:absl:You are saving your model as an HDF5 file via `model.save()` or `keras.saving.save_model(model)`. This file format is considered legacy. We recommend using instead the native Keras format, e.g. `model.save('my_model.keras')` or `keras.saving.save_model(model, 'my_model.keras')`. \n"
     ]
    }
   ],
   "source": [
    "from keras.models import Sequential\n",
    "from keras.layers import Dense\n",
    "\n",
    "# Example model creation\n",
    "model = Sequential()\n",
    "model.add(Dense(10, input_dim=15, activation='relu'))\n",
    "model.add(Dense(1, activation='sigmoid'))\n",
    "\n",
    "# Compile the model\n",
    "model.compile(loss='binary_crossentropy', optimizer='adam', metrics=['accuracy'])\n",
    "\n",
    "# Train the model with some dummy data\n",
    "import numpy as np\n",
    "\n",
    "X_train_dummy = np.random.rand(100, 15)\n",
    "y_train_dummy = np.random.randint(2, size=100)\n",
    "model.fit(X_train_dummy, y_train_dummy, epochs=5, batch_size=10, verbose=1)\n",
    "\n",
    "# Save the model\n",
    "model.save('model_correct.h5')\n"
   ]
  },
  {
   "cell_type": "code",
   "execution_count": 88,
   "metadata": {},
   "outputs": [
    {
     "name": "stderr",
     "output_type": "stream",
     "text": [
      "WARNING:absl:Compiled the loaded model, but the compiled metrics have yet to be built. `model.compile_metrics` will be empty until you train or evaluate the model.\n"
     ]
    }
   ],
   "source": [
    "from keras.models import load_model\n",
    "\n",
    "# Load the correctly saved model\n",
    "model = load_model('model_correct.h5')\n"
   ]
  },
  {
   "cell_type": "code",
   "execution_count": 86,
   "metadata": {},
   "outputs": [
    {
     "name": "stdout",
     "output_type": "stream",
     "text": [
      "\u001b[1m1/1\u001b[0m \u001b[32m━━━━━━━━━━━━━━━━━━━━\u001b[0m\u001b[37m\u001b[0m \u001b[1m0s\u001b[0m 141ms/step\n",
      "Stress Prediction: Not Stressed\n"
     ]
    }
   ],
   "source": [
    "# Define the adjusted sample input with correct feature names\n",
    "sample_input = {\n",
    "    'Age': 30,\n",
    "    'Gender': 1,  # Male\n",
    "    'Technology_Usage_Hours': 1.0,\n",
    "    'Social_Media_Usage_Hours': 0.5,\n",
    "    'Gaming_Hours': 0.2,\n",
    "    'Screen_Time_Hours': 4.0,\n",
    "    'Mental_Health_Status': 3,  # Excellent\n",
    "    'Sleep_Hours': 9.0,\n",
    "    'Physical_Activity_Hours': 8.0,\n",
    "    'Support_Systems_Access': 1,  # Yes\n",
    "    'Work_Environment_Impact': 2,  # Positive\n",
    "    'Online_Support_Usage': 1,  # Yes\n",
    "    'Humidity': 35.0,\n",
    "    'Temperature': 65.0,  # Lowering Temperature\n",
    "    'Step_count': 12000  # Further Increased Step Count\n",
    "}\n",
    "\n",
    "# Convert the sample input to DataFrame with correct feature names\n",
    "sample_df = pd.DataFrame([sample_input], columns=feature_names)\n",
    "sample_array = sample_df.values\n",
    "\n",
    "# Feature scaling using StandardScaler fitted with the same feature names\n",
    "scaler = StandardScaler().fit(X_train)  # Ensure X_train has the correct feature names\n",
    "sample_array_scaled = scaler.transform(sample_df)\n",
    "\n",
    "# Predict stress level\n",
    "prediction = model.predict(sample_array_scaled)\n",
    "is_stressed = np.argmax(prediction, axis=1)[0]\n",
    "\n",
    "# Output result\n",
    "stress_status = 'Stressed' if is_stressed else 'Not Stressed'\n",
    "print(f'Stress Prediction: {stress_status}')\n"
   ]
  },
  {
   "cell_type": "code",
   "execution_count": 89,
   "metadata": {},
   "outputs": [
    {
     "name": "stdout",
     "output_type": "stream",
     "text": [
      "\u001b[1m1/1\u001b[0m \u001b[32m━━━━━━━━━━━━━━━━━━━━\u001b[0m\u001b[37m\u001b[0m \u001b[1m0s\u001b[0m 75ms/step\n",
      "Stress Prediction: Not Stressed\n"
     ]
    }
   ],
   "source": [
    "# Define the adjusted sample input with correct feature names\n",
    "sample_input_stressed = {\n",
    "    'Age': 30,\n",
    "    'Gender': 1,  # Male\n",
    "    'Technology_Usage_Hours': 10.0,  # High technology usage\n",
    "    'Social_Media_Usage_Hours': 8.0,  # High social media usage\n",
    "    'Gaming_Hours': 3.0,\n",
    "    'Screen_Time_Hours': 12.0,  # High screen time\n",
    "    'Mental_Health_Status': 1,  # Poor\n",
    "    'Sleep_Hours': 4.0,  # Low sleep hours\n",
    "    'Physical_Activity_Hours': 1.0,  # Low physical activity\n",
    "    'Support_Systems_Access': 0,  # No support systems\n",
    "    'Work_Environment_Impact': 0,  # Negative work environment impact\n",
    "    'Online_Support_Usage': 0,  # No online support\n",
    "    'Humidity': 80.0,  # High humidity\n",
    "    'Temperature': 95.0,  # High temperature\n",
    "    'Step_count': 2000  # Low step count\n",
    "}\n",
    "\n",
    "# Convert the sample input to DataFrame with correct feature names\n",
    "sample_df_stressed = pd.DataFrame([sample_input_stressed], columns=feature_names)\n",
    "\n",
    "sample_array = sample_df.values\n",
    "\n",
    "# Feature scaling using StandardScaler fitted with the same feature names\n",
    "scaler = StandardScaler().fit(X_train)  # Ensure X_train has the correct feature names\n",
    "sample_array_scaled = scaler.transform(sample_df)\n",
    "\n",
    "# Predict stress level\n",
    "prediction = model.predict(sample_array_scaled)\n",
    "is_stressed = np.argmax(prediction, axis=1)[0]\n",
    "\n",
    "# Output result\n",
    "stress_status = 'Stressed' if is_stressed else 'Not Stressed'\n",
    "print(f'Stress Prediction: {stress_status}')\n"
   ]
  },
  {
   "cell_type": "code",
   "execution_count": 91,
   "metadata": {},
   "outputs": [
    {
     "name": "stderr",
     "output_type": "stream",
     "text": [
      "C:\\Users\\admin\\AppData\\Roaming\\Python\\Python311\\site-packages\\sklearn\\base.py:493: UserWarning: X does not have valid feature names, but LogisticRegression was fitted with feature names\n",
      "  warnings.warn(\n",
      "WARNING:absl:Compiled the loaded model, but the compiled metrics have yet to be built. `model.compile_metrics` will be empty until you train or evaluate the model.\n"
     ]
    },
    {
     "name": "stdout",
     "output_type": "stream",
     "text": [
      "Sample DataFrame:\n",
      "   Age  Gender  Technology_Usage_Hours  Social_Media_Usage_Hours  \\\n",
      "0   30       1                    10.0                       8.0   \n",
      "\n",
      "   Gaming_Hours  Screen_Time_Hours  Mental_Health_Status  Sleep_Hours  \\\n",
      "0           3.0               12.0                     1          4.0   \n",
      "\n",
      "   Physical_Activity_Hours  Support_Systems_Access  Work_Environment_Impact  \\\n",
      "0                      1.0                       0                        0   \n",
      "\n",
      "   Online_Support_Usage  Humidity  Temperature  Step_count  \n",
      "0                     0      80.0         95.0        2000  \n",
      "Stress Prediction (PKL): Stressed\n",
      "\u001b[1m1/1\u001b[0m \u001b[32m━━━━━━━━━━━━━━━━━━━━\u001b[0m\u001b[37m\u001b[0m \u001b[1m0s\u001b[0m 122ms/step\n",
      "Stress Prediction (H5): Not Stressed\n"
     ]
    }
   ],
   "source": [
    "import pandas as pd\n",
    "import joblib\n",
    "from sklearn.preprocessing import StandardScaler\n",
    "import numpy as np\n",
    "from keras.models import load_model\n",
    "\n",
    "# Feature names\n",
    "feature_names = ['Age', 'Gender', 'Technology_Usage_Hours', 'Social_Media_Usage_Hours', 'Gaming_Hours',\n",
    "                 'Screen_Time_Hours', 'Mental_Health_Status', 'Sleep_Hours', 'Physical_Activity_Hours',\n",
    "                 'Support_Systems_Access', 'Work_Environment_Impact', 'Online_Support_Usage',\n",
    "                 'Humidity', 'Temperature', 'Step_count']\n",
    "\n",
    "# Define stressed input\n",
    "sample_input_stressed = {\n",
    "    'Age': 30,\n",
    "    'Gender': 1,  # Male\n",
    "    'Technology_Usage_Hours': 10.0,  # High technology usage\n",
    "    'Social_Media_Usage_Hours': 8.0,  # High social media usage\n",
    "    'Gaming_Hours': 3.0,\n",
    "    'Screen_Time_Hours': 12.0,  # High screen time\n",
    "    'Mental_Health_Status': 1,  # Poor\n",
    "    'Sleep_Hours': 4.0,  # Low sleep hours\n",
    "    'Physical_Activity_Hours': 1.0,  # Low physical activity\n",
    "    'Support_Systems_Access': 0,  # No support systems\n",
    "    'Work_Environment_Impact': 0,  # Negative work environment impact\n",
    "    'Online_Support_Usage': 0,  # No online support\n",
    "    'Humidity': 80.0,  # High humidity\n",
    "    'Temperature': 95.0,  # High temperature\n",
    "    'Step_count': 2000  # Low step count\n",
    "}\n",
    "\n",
    "# Convert input to DataFrame\n",
    "sample_df_stressed = pd.DataFrame([sample_input_stressed], columns=feature_names)\n",
    "\n",
    "# Check the DataFrame\n",
    "print(\"Sample DataFrame:\")\n",
    "print(sample_df_stressed)\n",
    "\n",
    "# Load model and scale data\n",
    "try:\n",
    "    # For the .pkl model\n",
    "    model_pkl = joblib.load('model.pkl')\n",
    "\n",
    "    # Scale features\n",
    "    scaler = StandardScaler().fit(X_train)\n",
    "    sample_array_scaled_stressed = scaler.transform(sample_df_stressed)\n",
    "\n",
    "    # Predict stress level\n",
    "    prediction_pkl = model_pkl.predict(sample_array_scaled_stressed)\n",
    "    is_stressed_pkl = prediction_pkl[0] > 0.5  # Binary output\n",
    "    stress_status_pkl = 'Stressed' if is_stressed_pkl else 'Not Stressed'\n",
    "    print(f'Stress Prediction (PKL): {stress_status_pkl}')\n",
    "except Exception as e:\n",
    "    print(f\"Error with .pkl model: {e}\")\n",
    "\n",
    "try:\n",
    "    # For the .h5 model\n",
    "    model_h5 = load_model('model_correct.h5')\n",
    "\n",
    "    # Scale features\n",
    "    sample_array_scaled_stressed = scaler.transform(sample_df_stressed)\n",
    "\n",
    "    # Predict stress level\n",
    "    prediction_h5 = model_h5.predict(sample_array_scaled_stressed)\n",
    "    is_stressed_h5 = np.argmax(prediction_h5, axis=1)[0]\n",
    "    stress_status_h5 = 'Stressed' if is_stressed_h5 else 'Not Stressed'\n",
    "    print(f'Stress Prediction (H5): {stress_status_h5}')\n",
    "except Exception as e:\n",
    "    print(f\"Error with .h5 model: {e}\")\n"
   ]
  },
  {
   "cell_type": "code",
   "execution_count": 92,
   "metadata": {},
   "outputs": [
    {
     "name": "stdout",
     "output_type": "stream",
     "text": [
      "Prediction probabilities (PKL): [[3.11793326e-08 9.99999969e-01]]\n",
      "Final Stress Prediction (PKL): Stressed\n"
     ]
    },
    {
     "name": "stderr",
     "output_type": "stream",
     "text": [
      "C:\\Users\\admin\\AppData\\Roaming\\Python\\Python311\\site-packages\\sklearn\\base.py:493: UserWarning: X does not have valid feature names, but LogisticRegression was fitted with feature names\n",
      "  warnings.warn(\n"
     ]
    }
   ],
   "source": [
    "# Probability prediction for .pkl model\n",
    "prediction_proba_pkl = model_pkl.predict_proba(sample_array_scaled_stressed)\n",
    "print(\"Prediction probabilities (PKL):\", prediction_proba_pkl)\n",
    "\n",
    "# Check the decision boundary\n",
    "is_stressed_pkl = prediction_proba_pkl[0][1] > 0.5  # Adjust the threshold if needed\n",
    "stress_status_pkl = 'Stressed' if is_stressed_pkl else 'Not Stressed'\n",
    "print(f'Final Stress Prediction (PKL): {stress_status_pkl}')\n"
   ]
  },
  {
   "cell_type": "code",
   "execution_count": 93,
   "metadata": {},
   "outputs": [
    {
     "name": "stdout",
     "output_type": "stream",
     "text": [
      "Prediction probabilities (H5): [[0.99858]]\n",
      "Final Stress Prediction (H5): Not Stressed\n"
     ]
    }
   ],
   "source": [
    "# Check the probabilities from the .h5 model\n",
    "print(\"Prediction probabilities (H5):\", prediction_h5)\n",
    "\n",
    "# Ensure proper evaluation of the output\n",
    "is_stressed_h5 = np.argmax(prediction_h5, axis=1)[0]\n",
    "stress_status_h5 = 'Stressed' if is_stressed_h5 else 'Not Stressed'\n",
    "print(f'Final Stress Prediction (H5): {stress_status_h5}')\n"
   ]
  }
 ],
 "metadata": {
  "kernelspec": {
   "display_name": "Python 3",
   "language": "python",
   "name": "python3"
  },
  "language_info": {
   "codemirror_mode": {
    "name": "ipython",
    "version": 3
   },
   "file_extension": ".py",
   "mimetype": "text/x-python",
   "name": "python",
   "nbconvert_exporter": "python",
   "pygments_lexer": "ipython3",
   "version": "3.11.9"
  }
 },
 "nbformat": 4,
 "nbformat_minor": 2
}
