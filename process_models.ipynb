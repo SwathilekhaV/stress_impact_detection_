{
 "cells": [
  {
   "cell_type": "code",
   "execution_count": 2,
   "metadata": {},
   "outputs": [],
   "source": [
    "import pandas as pd\n",
    "from sklearn.model_selection import train_test_split\n",
    "from sklearn.preprocessing import StandardScaler, LabelEncoder\n",
    "\n",
    "# Load your combined dataset\n",
    "combined_data = pd.read_csv(\"combined_dataset.csv\")  # Path to your combined dataset\n",
    "\n",
    "# Encode categorical variables if necessary\n",
    "le = LabelEncoder()\n",
    "combined_data['Gender'] = le.fit_transform(combined_data['Gender'])\n",
    "combined_data['Support_Systems_Access'] = le.fit_transform(combined_data['Support_Systems_Access'])\n",
    "combined_data['Work_Environment_Impact'] = le.fit_transform(combined_data['Work_Environment_Impact'])\n",
    "combined_data['Online_Support_Usage'] = le.fit_transform(combined_data['Online_Support_Usage'])\n",
    "\n",
    "# Standardize numeric features\n",
    "scaler = StandardScaler()\n",
    "numeric_features = ['Age', 'Technology_Usage_Hours', 'Social_Media_Usage_Hours', 'Gaming_Hours',\n",
    "                    'Screen_Time_Hours', 'Sleep_Hours', 'Physical_Activity_Hours', 'Humidity',\n",
    "                    'Temperature', 'Step_count']\n",
    "combined_data[numeric_features] = scaler.fit_transform(combined_data[numeric_features])\n",
    "\n",
    "# Split data into training and testing sets\n",
    "X = combined_data.drop('Stress_Level', axis=1)\n",
    "y = combined_data['Stress_Level']\n",
    "X_train, X_test, y_train, y_test = train_test_split(X, y, test_size=0.2, random_state=42)\n"
   ]
  },
  {
   "cell_type": "code",
   "execution_count": 3,
   "metadata": {},
   "outputs": [],
   "source": [
    "from sklearn.linear_model import LogisticRegression\n",
    "\n",
    "# Use lifestyle features for initial stress prediction\n",
    "lifestyle_features = ['Age', 'Sleep_Hours', 'Physical_Activity_Hours', 'Work_Environment_Impact']\n",
    "X_train_lifestyle = X_train[lifestyle_features]\n",
    "X_test_lifestyle = X_test[lifestyle_features]\n",
    "\n",
    "lifestyle_model = LogisticRegression()\n",
    "lifestyle_model.fit(X_train_lifestyle, y_train)\n",
    "lifestyle_stress_score = lifestyle_model.predict(X_train_lifestyle)\n"
   ]
  },
  {
   "cell_type": "code",
   "execution_count": 4,
   "metadata": {},
   "outputs": [
    {
     "name": "stderr",
     "output_type": "stream",
     "text": [
      "C:\\Users\\admin\\AppData\\Local\\Temp\\ipykernel_10916\\2920056274.py:3: SettingWithCopyWarning: \n",
      "A value is trying to be set on a copy of a slice from a DataFrame.\n",
      "Try using .loc[row_indexer,col_indexer] = value instead\n",
      "\n",
      "See the caveats in the documentation: https://pandas.pydata.org/pandas-docs/stable/user_guide/indexing.html#returning-a-view-versus-a-copy\n",
      "  X_train_environment['Lifestyle_Stress_Score'] = lifestyle_stress_score\n"
     ]
    }
   ],
   "source": [
    "# Combine lifestyle score with environmental data for next model\n",
    "X_train_environment = X_train[['Humidity', 'Temperature']]\n",
    "X_train_environment['Lifestyle_Stress_Score'] = lifestyle_stress_score\n",
    "\n",
    "# Train environmental model\n",
    "from sklearn.tree import DecisionTreeClassifier\n",
    "environment_model = DecisionTreeClassifier()\n",
    "environment_model.fit(X_train_environment, y_train)\n",
    "environment_stress_score = environment_model.predict(X_train_environment)\n"
   ]
  },
  {
   "cell_type": "code",
   "execution_count": 5,
   "metadata": {},
   "outputs": [
    {
     "name": "stderr",
     "output_type": "stream",
     "text": [
      "C:\\Users\\admin\\AppData\\Local\\Temp\\ipykernel_10916\\1061868905.py:3: SettingWithCopyWarning: \n",
      "A value is trying to be set on a copy of a slice from a DataFrame.\n",
      "Try using .loc[row_indexer,col_indexer] = value instead\n",
      "\n",
      "See the caveats in the documentation: https://pandas.pydata.org/pandas-docs/stable/user_guide/indexing.html#returning-a-view-versus-a-copy\n",
      "  X_train_activity['Environment_Stress_Score'] = environment_stress_score\n"
     ]
    }
   ],
   "source": [
    "# Combine environmental score with physical activity data for next model\n",
    "X_train_activity = X_train[['Step_count']]\n",
    "X_train_activity['Environment_Stress_Score'] = environment_stress_score\n",
    "\n",
    "# Train physical activity model\n",
    "activity_model = LogisticRegression()\n",
    "activity_model.fit(X_train_activity, y_train)\n",
    "activity_stress_score = activity_model.predict(X_train_activity)\n"
   ]
  },
  {
   "cell_type": "code",
   "execution_count": 6,
   "metadata": {},
   "outputs": [
    {
     "name": "stderr",
     "output_type": "stream",
     "text": [
      "C:\\Users\\admin\\AppData\\Local\\Temp\\ipykernel_10916\\883954315.py:3: SettingWithCopyWarning: \n",
      "A value is trying to be set on a copy of a slice from a DataFrame.\n",
      "Try using .loc[row_indexer,col_indexer] = value instead\n",
      "\n",
      "See the caveats in the documentation: https://pandas.pydata.org/pandas-docs/stable/user_guide/indexing.html#returning-a-view-versus-a-copy\n",
      "  X_train_tech['Activity_Stress_Score'] = activity_stress_score\n"
     ]
    }
   ],
   "source": [
    "# Combine activity score with social/technology usage data for next model\n",
    "X_train_tech = X_train[['Technology_Usage_Hours', 'Social_Media_Usage_Hours', 'Gaming_Hours', 'Screen_Time_Hours']]\n",
    "X_train_tech['Activity_Stress_Score'] = activity_stress_score\n",
    "\n",
    "# Train technology/social model\n",
    "tech_model = LogisticRegression()\n",
    "tech_model.fit(X_train_tech, y_train)\n",
    "tech_stress_score = tech_model.predict(X_train_tech)\n"
   ]
  },
  {
   "cell_type": "code",
   "execution_count": 7,
   "metadata": {},
   "outputs": [],
   "source": [
    "import numpy as np\n",
    "\n",
    "# Combine all previous model outputs to make a final aggregated prediction\n",
    "X_train_aggregated = np.column_stack((lifestyle_stress_score, environment_stress_score, activity_stress_score, tech_stress_score))\n",
    "\n",
    "# Train an ensemble model for final stress prediction\n",
    "from sklearn.ensemble import RandomForestClassifier\n",
    "final_model = RandomForestClassifier()\n",
    "final_model.fit(X_train_aggregated, y_train)\n",
    "final_stress_prediction = final_model.predict(X_train_aggregated)\n"
   ]
  },
  {
   "cell_type": "code",
   "execution_count": 8,
   "metadata": {},
   "outputs": [
    {
     "name": "stdout",
     "output_type": "stream",
     "text": [
      "Final Stress Prediction:\n",
      "[1 1 2 ... 1 2 1]\n",
      "\n",
      "Feature Importance:\n",
      "             Feature  Importance\n",
      "0          Lifestyle        0.00\n",
      "1        Environment        0.29\n",
      "2  Physical Activity        0.38\n",
      "3   Technology Usage        0.33\n"
     ]
    }
   ],
   "source": [
    "# Analyze feature importance from final model\n",
    "importances = final_model.feature_importances_\n",
    "feature_names = ['Lifestyle', 'Environment', 'Physical Activity', 'Technology Usage']\n",
    "feature_importance = pd.DataFrame({'Feature': feature_names, 'Importance': importances})\n",
    "\n",
    "print(\"Final Stress Prediction:\")\n",
    "print(final_stress_prediction)\n",
    "print(\"\\nFeature Importance:\")\n",
    "print(feature_importance)\n"
   ]
  },
  {
   "cell_type": "code",
   "execution_count": 9,
   "metadata": {},
   "outputs": [],
   "source": [
    "import joblib\n"
   ]
  },
  {
   "cell_type": "code",
   "execution_count": 10,
   "metadata": {},
   "outputs": [
    {
     "data": {
      "text/plain": [
       "['final_model.joblib']"
      ]
     },
     "execution_count": 10,
     "metadata": {},
     "output_type": "execute_result"
    }
   ],
   "source": [
    "# Save Lifestyle Model\n",
    "joblib.dump(lifestyle_model, 'lifestyle_model.joblib')\n",
    "\n",
    "# Save Environmental Model\n",
    "joblib.dump(environment_model, 'environment_model.joblib')\n",
    "\n",
    "# Save Physical Activity Model\n",
    "joblib.dump(activity_model, 'activity_model.joblib')\n",
    "\n",
    "# Save Technology/Social Model\n",
    "joblib.dump(tech_model, 'tech_model.joblib')\n",
    "\n",
    "# Save Final Aggregated Model\n",
    "joblib.dump(final_model, 'final_model.joblib')\n"
   ]
  },
  {
   "cell_type": "code",
   "execution_count": 12,
   "metadata": {},
   "outputs": [],
   "source": [
    "import joblib\n",
    "\n",
    "# Load each saved model\n",
    "lifestyle_model = joblib.load('lifestyle_model.joblib')\n",
    "environment_model = joblib.load('environment_model.joblib')\n",
    "activity_model = joblib.load('activity_model.joblib')\n",
    "tech_model = joblib.load('tech_model.joblib')\n",
    "final_model = joblib.load('final_model.joblib')\n"
   ]
  },
  {
   "cell_type": "code",
   "execution_count": 13,
   "metadata": {},
   "outputs": [
    {
     "name": "stderr",
     "output_type": "stream",
     "text": [
      "C:\\Users\\admin\\AppData\\Local\\Temp\\ipykernel_10916\\2630255239.py:7: SettingWithCopyWarning: \n",
      "A value is trying to be set on a copy of a slice from a DataFrame.\n",
      "Try using .loc[row_indexer,col_indexer] = value instead\n",
      "\n",
      "See the caveats in the documentation: https://pandas.pydata.org/pandas-docs/stable/user_guide/indexing.html#returning-a-view-versus-a-copy\n",
      "  X_test_environment['Lifestyle_Stress_Score'] = lifestyle_stress_score_test\n",
      "C:\\Users\\admin\\AppData\\Local\\Temp\\ipykernel_10916\\2630255239.py:12: SettingWithCopyWarning: \n",
      "A value is trying to be set on a copy of a slice from a DataFrame.\n",
      "Try using .loc[row_indexer,col_indexer] = value instead\n",
      "\n",
      "See the caveats in the documentation: https://pandas.pydata.org/pandas-docs/stable/user_guide/indexing.html#returning-a-view-versus-a-copy\n",
      "  X_test_activity['Environment_Stress_Score'] = environment_stress_score_test\n",
      "C:\\Users\\admin\\AppData\\Local\\Temp\\ipykernel_10916\\2630255239.py:17: SettingWithCopyWarning: \n",
      "A value is trying to be set on a copy of a slice from a DataFrame.\n",
      "Try using .loc[row_indexer,col_indexer] = value instead\n",
      "\n",
      "See the caveats in the documentation: https://pandas.pydata.org/pandas-docs/stable/user_guide/indexing.html#returning-a-view-versus-a-copy\n",
      "  X_test_tech['Activity_Stress_Score'] = activity_stress_score_test\n"
     ]
    }
   ],
   "source": [
    "# Test Lifestyle Model\n",
    "X_test_lifestyle = X_test[['Age', 'Sleep_Hours', 'Physical_Activity_Hours', 'Work_Environment_Impact']]\n",
    "lifestyle_stress_score_test = lifestyle_model.predict(X_test_lifestyle)\n",
    "\n",
    "# Test Environmental Model\n",
    "X_test_environment = X_test[['Humidity', 'Temperature']]\n",
    "X_test_environment['Lifestyle_Stress_Score'] = lifestyle_stress_score_test\n",
    "environment_stress_score_test = environment_model.predict(X_test_environment)\n",
    "\n",
    "# Test Physical Activity Model\n",
    "X_test_activity = X_test[['Step_count']]\n",
    "X_test_activity['Environment_Stress_Score'] = environment_stress_score_test\n",
    "activity_stress_score_test = activity_model.predict(X_test_activity)\n",
    "\n",
    "# Test Technology/Social Model\n",
    "X_test_tech = X_test[['Technology_Usage_Hours', 'Social_Media_Usage_Hours', 'Gaming_Hours', 'Screen_Time_Hours']]\n",
    "X_test_tech['Activity_Stress_Score'] = activity_stress_score_test\n",
    "tech_stress_score_test = tech_model.predict(X_test_tech)\n",
    "\n",
    "# Test Final Aggregated Model\n",
    "import numpy as np\n",
    "X_test_aggregated = np.column_stack((lifestyle_stress_score_test, environment_stress_score_test, activity_stress_score_test, tech_stress_score_test))\n",
    "final_stress_prediction = final_model.predict(X_test_aggregated)\n"
   ]
  },
  {
   "cell_type": "code",
   "execution_count": 14,
   "metadata": {},
   "outputs": [
    {
     "name": "stdout",
     "output_type": "stream",
     "text": [
      "Lifestyle Model Accuracy: 0.49775112443778113\n",
      "Environmental Model Accuracy: 1.0\n",
      "Activity Model Accuracy: 1.0\n",
      "Tech Model Accuracy: 1.0\n",
      "Final Model Accuracy: 1.0\n",
      "\n",
      "Final Model Classification Report:\n",
      "               precision    recall  f1-score   support\n",
      "\n",
      "           1       1.00      1.00      1.00       685\n",
      "           2       1.00      1.00      1.00       649\n",
      "\n",
      "    accuracy                           1.00      1334\n",
      "   macro avg       1.00      1.00      1.00      1334\n",
      "weighted avg       1.00      1.00      1.00      1334\n",
      "\n"
     ]
    }
   ],
   "source": [
    "from sklearn.metrics import accuracy_score, classification_report\n",
    "\n",
    "# Evaluate each model individually\n",
    "print(\"Lifestyle Model Accuracy:\", accuracy_score(y_test, lifestyle_stress_score_test))\n",
    "print(\"Environmental Model Accuracy:\", accuracy_score(y_test, environment_stress_score_test))\n",
    "print(\"Activity Model Accuracy:\", accuracy_score(y_test, activity_stress_score_test))\n",
    "print(\"Tech Model Accuracy:\", accuracy_score(y_test, tech_stress_score_test))\n",
    "\n",
    "# Evaluate the final model\n",
    "print(\"Final Model Accuracy:\", accuracy_score(y_test, final_stress_prediction))\n",
    "\n",
    "# Detailed classification report for the final model\n",
    "print(\"\\nFinal Model Classification Report:\\n\", classification_report(y_test, final_stress_prediction))\n"
   ]
  },
  {
   "cell_type": "code",
   "execution_count": 15,
   "metadata": {},
   "outputs": [
    {
     "name": "stdout",
     "output_type": "stream",
     "text": [
      "Defaulting to user installation because normal site-packages is not writeableNote: you may need to restart the kernel to use updated packages.\n"
     ]
    },
    {
     "name": "stderr",
     "output_type": "stream",
     "text": [
      "\n",
      "[notice] A new release of pip is available: 24.0 -> 24.3.1\n",
      "[notice] To update, run: python.exe -m pip install --upgrade pip\n"
     ]
    },
    {
     "name": "stdout",
     "output_type": "stream",
     "text": [
      "\n",
      "Requirement already satisfied: reportlab in c:\\users\\admin\\appdata\\roaming\\python\\python311\\site-packages (4.2.5)\n",
      "Requirement already satisfied: pillow>=9.0.0 in c:\\users\\admin\\appdata\\roaming\\python\\python311\\site-packages (from reportlab) (10.4.0)\n",
      "Requirement already satisfied: chardet in c:\\users\\admin\\appdata\\roaming\\python\\python311\\site-packages (from reportlab) (5.2.0)\n"
     ]
    }
   ],
   "source": [
    "pip install reportlab\n"
   ]
  },
  {
   "cell_type": "code",
   "execution_count": 29,
   "metadata": {},
   "outputs": [
    {
     "name": "stdout",
     "output_type": "stream",
     "text": [
      "Stress report saved as Professional_Stress_Report.pdf\n"
     ]
    },
    {
     "name": "stderr",
     "output_type": "stream",
     "text": [
      "C:\\Users\\admin\\AppData\\Roaming\\Python\\Python311\\site-packages\\sklearn\\base.py:493: UserWarning: X does not have valid feature names, but LogisticRegression was fitted with feature names\n",
      "  warnings.warn(\n",
      "C:\\Users\\admin\\AppData\\Roaming\\Python\\Python311\\site-packages\\sklearn\\base.py:493: UserWarning: X does not have valid feature names, but DecisionTreeClassifier was fitted with feature names\n",
      "  warnings.warn(\n",
      "C:\\Users\\admin\\AppData\\Roaming\\Python\\Python311\\site-packages\\sklearn\\base.py:493: UserWarning: X does not have valid feature names, but LogisticRegression was fitted with feature names\n",
      "  warnings.warn(\n",
      "C:\\Users\\admin\\AppData\\Roaming\\Python\\Python311\\site-packages\\sklearn\\base.py:493: UserWarning: X does not have valid feature names, but LogisticRegression was fitted with feature names\n",
      "  warnings.warn(\n"
     ]
    }
   ],
   "source": [
    "from reportlab.lib.pagesizes import A4\n",
    "from reportlab.pdfgen import canvas\n",
    "from reportlab.lib import colors\n",
    "from datetime import datetime\n",
    "\n",
    "def generate_pdf_report(inputs, predictions, filename='Stress_Report.pdf'):\n",
    "    c = canvas.Canvas(filename, pagesize=A4)\n",
    "    width, height = A4\n",
    "\n",
    "    # Title Section\n",
    "    c.setFont(\"Helvetica-Bold\", 20)\n",
    "    c.drawString(100, height - 60, \"Comprehensive Stress Analysis Report\")\n",
    "\n",
    "    # Subtitle\n",
    "    c.setFont(\"Helvetica\", 12)\n",
    "    c.setFillColor(colors.grey)\n",
    "    c.drawString(100, height - 85, \"A detailed report on stress indicators and model-based predictions\")\n",
    "    \n",
    "    # Date\n",
    "    c.setFont(\"Helvetica\", 10)\n",
    "    c.setFillColor(colors.black)\n",
    "    c.drawString(100, height - 105, f\"Generated on: {datetime.now().strftime('%Y-%m-%d %H:%M:%S')}\")\n",
    "    \n",
    "    # Line separator\n",
    "    c.line(100, height - 115, width - 100, height - 115)\n",
    "\n",
    "    # Summary Section\n",
    "    c.setFont(\"Helvetica-Bold\", 14)\n",
    "    c.drawString(100, height - 135, \"Summary\")\n",
    "    c.setFont(\"Helvetica\", 10)\n",
    "    summary_text = (\"This report provides an analysis of stress levels based on lifestyle, environmental, \"\n",
    "                    \"physical activity, and technology usage factors. Each model calculates an individual \"\n",
    "                    \"stress score based on these inputs, leading to a final aggregated stress level.\")\n",
    "    c.drawString(100, height - 155, summary_text)\n",
    "\n",
    "    # Input Data Section\n",
    "    c.setFont(\"Helvetica-Bold\", 12)\n",
    "    c.drawString(100, height - 190, \"1. Input Data\")\n",
    "    c.setFont(\"Helvetica\", 10)\n",
    "    y = height - 210\n",
    "    for key, value in inputs.items():\n",
    "        c.drawString(100, y, f\"{key}: {value}\")\n",
    "        y -= 15\n",
    "\n",
    "    # Prediction Results Section\n",
    "    c.setFont(\"Helvetica-Bold\", 12)\n",
    "    y -= 20\n",
    "    c.drawString(100, y, \"2. Model-Based Stress Predictions\")\n",
    "    y -= 15\n",
    "    c.setFont(\"Helvetica\", 10)\n",
    "    for key, value in predictions.items():\n",
    "        if key != \"Final Stress Level\":\n",
    "            c.drawString(100, y, f\"{key}: {value}\")\n",
    "            y -= 15\n",
    "\n",
    "    # Final Stress Level Section\n",
    "    y -= 20\n",
    "    c.setFont(\"Helvetica-Bold\", 12)\n",
    "    c.drawString(100, y, \"3. Final Aggregated Stress Level\")\n",
    "    c.setFont(\"Helvetica\", 10)\n",
    "    y -= 15\n",
    "    c.drawString(100, y, f\"Overall Stress Level: {predictions['Final Stress Level']}\")\n",
    "\n",
    "    # Conclusion Section\n",
    "    y -= 40\n",
    "    c.setFont(\"Helvetica-Bold\", 12)\n",
    "    c.drawString(100, y, \"Conclusion and Recommendations\")\n",
    "    c.setFont(\"Helvetica\", 10)\n",
    "    y -= 15\n",
    "    conclusion_text = (\"This final stress level assessment combines multiple dimensions of stress. \"\n",
    "                       \"A higher score indicates greater stress, which may benefit from targeted \"\n",
    "                       \"interventions, such as reducing screen time or improving sleep hygiene. \"\n",
    "                       \"Regular monitoring is advised for optimal stress management.\")\n",
    "    for line in conclusion_text.split('. '):\n",
    "        c.drawString(100, y, line.strip() + \".\")\n",
    "        y -= 15\n",
    "\n",
    "    c.save()\n",
    "    print(f\"Stress report saved as {filename}\")\n",
    "\n",
    "# Example usage:\n",
    "random_inputs = generate_random_inputs()\n",
    "predictions = get_stress_prediction(random_inputs)\n",
    "generate_pdf_report(random_inputs, predictions, filename='Professional_Stress_Report.pdf')\n"
   ]
  }
 ],
 "metadata": {
  "kernelspec": {
   "display_name": "Python 3",
   "language": "python",
   "name": "python3"
  },
  "language_info": {
   "codemirror_mode": {
    "name": "ipython",
    "version": 3
   },
   "file_extension": ".py",
   "mimetype": "text/x-python",
   "name": "python",
   "nbconvert_exporter": "python",
   "pygments_lexer": "ipython3",
   "version": "3.11.9"
  }
 },
 "nbformat": 4,
 "nbformat_minor": 2
}
