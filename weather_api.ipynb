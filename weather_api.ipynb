{
 "cells": [
  {
   "cell_type": "code",
   "execution_count": 1,
   "metadata": {},
   "outputs": [
    {
     "name": "stdout",
     "output_type": "stream",
     "text": [
      "Report generated: stress_report.pdf\n"
     ]
    }
   ],
   "source": [
    "\n",
    "import requests\n",
    "import pandas as pd\n",
    "import joblib\n",
    "from reportlab.lib.pagesizes import letter\n",
    "from reportlab.pdfgen import canvas\n",
    "\n",
    "def fetch_weather_data(api_key, city):\n",
    "    # Use the city name in quotes\n",
    "    url = f\"https://api.openweathermap.org/data/2.5/weather?q={city}&appid={api_key}&units=metric\"\n",
    "    response = requests.get(url)\n",
    "    \n",
    "    if response.status_code == 200:\n",
    "        data = response.json()\n",
    "        return data['main']['humidity'], data['main']['temp']\n",
    "    else:\n",
    "        raise Exception(f\"Error fetching weather data: {response.status_code}\")\n",
    "\n",
    "def generate_stress_report(humidity, temperature, step_count):\n",
    "    # Load the saved model\n",
    "    model = joblib.load(\"stress_detection_model.joblib\")\n",
    "    \n",
    "    # Prepare the input data\n",
    "    input_data = pd.DataFrame([[humidity, temperature, step_count]], columns=['Humidity', 'Temperature', 'Step_count'])\n",
    "    \n",
    "    # Make prediction\n",
    "    prediction = model.predict(input_data)\n",
    "\n",
    "    # Create a PDF report\n",
    "    pdf_file_path = \"stress_report.pdf\"\n",
    "    c = canvas.Canvas(pdf_file_path, pagesize=letter)\n",
    "    c.drawString(100, 750, \"Stress Report\")\n",
    "    c.drawString(100, 730, f\"Humidity: {humidity}%\")\n",
    "    c.drawString(100, 710, f\"Temperature: {temperature}°C\")\n",
    "    c.drawString(100, 690, f\"Step Count: {step_count}\")\n",
    "    c.drawString(100, 670, f\"Predicted Stress Level: {prediction[0]}\")\n",
    "    c.save()\n",
    "\n",
    "    return pdf_file_path\n",
    "\n",
    "# Example usage\n",
    "api_key = \"9433c011de3886e1014d3b25f5ba5f1c\"  # Replace with your OpenWeatherMap API key\n",
    "city = \"Chennai\"  # Use the city name in quotes\n",
    "step_count = 123  # Replace with real step count from Apple Watch integration\n",
    "\n",
    "# Fetch weather data\n",
    "try:\n",
    "    humidity, temperature = fetch_weather_data(api_key, city)\n",
    "    report_path = generate_stress_report(humidity, temperature, step_count)\n",
    "    print(f\"Report generated: {report_path}\")\n",
    "except Exception as e:\n",
    "    print(e)\n"
   ]
  }
 ],
 "metadata": {
  "kernelspec": {
   "display_name": "Python 3",
   "language": "python",
   "name": "python3"
  },
  "language_info": {
   "codemirror_mode": {
    "name": "ipython",
    "version": 3
   },
   "file_extension": ".py",
   "mimetype": "text/x-python",
   "name": "python",
   "nbconvert_exporter": "python",
   "pygments_lexer": "ipython3",
   "version": "3.11.9"
  }
 },
 "nbformat": 4,
 "nbformat_minor": 2
}
